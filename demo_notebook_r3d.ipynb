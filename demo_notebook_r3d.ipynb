{
 "cells": [
  {
   "cell_type": "markdown",
   "metadata": {},
   "source": [
    "## Import dependencies"
   ]
  },
  {
   "cell_type": "code",
   "execution_count": null,
   "metadata": {},
   "outputs": [],
   "source": [
    "from osg.utils.general_utils import load_r3d_data, create_r3d_observation_graph, get_spatial_referents, draw_observations_graph\n",
    "from osg.vlm_library import vlm_library"
   ]
  },
  {
   "cell_type": "markdown",
   "metadata": {},
   "source": [
    "## Setup"
   ]
  },
  {
   "cell_type": "code",
   "execution_count": null,
   "metadata": {},
   "outputs": [],
   "source": [
    "## setup\n",
    "tmp_fldr=f\"results/\"\n",
    "vlm_instance   = vlm_library(vl_model=\"owl_vit\", data_src=\"r3d\", seg_model=\"mobile_sam\", tmp_fldr=tmp_fldr) \n",
    "\n",
    "## load data\n",
    "data_file = \"../data/sample_r3d_data/bdai_kitchen.r3d\"\n",
    "posed_dataset, observation_data, env_pointcloud = load_r3d_data(data_file, tmp_fldr, depth_confidence_cutoff=0.7, pcd_downsample=False)\n",
    "\n",
    "observations_graph, node_id2key, node_key2id, node_coords = create_r3d_observation_graph(observation_data, tmp_fldr=tmp_fldr)\n",
    "\n",
    "## draw observations graph\n",
    "# draw_observations_graph(observations_graph, node_coords, plt_size=(10,10),axis=False)"
   ]
  },
  {
   "cell_type": "code",
   "execution_count": null,
   "metadata": {},
   "outputs": [],
   "source": [
    "observations_graph.nodes[0]"
   ]
  },
  {
   "cell_type": "markdown",
   "metadata": {},
   "source": [
    "## Composible Referent Descriptors"
   ]
  },
  {
   "cell_type": "code",
   "execution_count": null,
   "metadata": {},
   "outputs": [],
   "source": [
    "## Composible Referent ## Composible Referent Descriptor (CRD) \n",
    "    # CRDs are propositional expressions that represent specific referent instances by chaining comparators that encode descriptive spatial information. \n",
    "    # For more details see: https://arxiv.org/abs/2402.11498\n",
    "\n",
    "## CRD Syntax\n",
    "    # referent_1::isbetween(referent_2,referent_3)  :denotes that referent_1 is between referent_2 and referent_3.\n",
    "    # referent_1::isabove(referent_2)               :denotes that referent_1 is above referent_2.\n",
    "    # referent_1::isbelow(referent_2)               :denotes that referent_1 is below referent_2.\n",
    "    # referent_1::isleftof(referent_2)              :denotes that referent_1 is left of referent_2.\n",
    "    # referent_1::isrightof(referent_2)             :denotes that referent_1 is right of referent_2.\n",
    "    # referent_1::isnextto(referent_2)              :denotes that referent_1 is close to referent_2.\n",
    "    # referent_1::isinfrontof(referent_2)           :denotes that referent_1 is in front of referent_2.\n",
    "    # referent_1::isbehind(referent_2)              :denotes that referent_1 is behind referent_2.\n",
    "\n",
    "## Examples\n",
    "    # Desired referent:   table behind the fridge\n",
    "    # CRD representation: table::isbehind(fridge) \n",
    "\n",
    "    # Desired referent:    chair between the green laptop and the yellow box below the sofa\n",
    "    # CRD representation:  chair::isbetween(green_laptop,yellow_box::isbelow(sofa))\n",
    "\n",
    "    # Desired referent:    brown bag between the television and the kettle on the left of the green seat\n",
    "    # CRD representation:  brown_bag::isbetween(television, kettle::isleftof(green_seat))"
   ]
  },
  {
   "cell_type": "markdown",
   "metadata": {},
   "source": [
    "## Ground referents and filter instances via spatial constraints"
   ]
  },
  {
   "cell_type": "code",
   "execution_count": null,
   "metadata": {},
   "outputs": [],
   "source": [
    "# Enter comma seperated referent names or composible referent descriptors you wish to ground\n",
    "# referents_to_ground = [\"coffee_machine\", \"red_cup::isnextto(microwave)\"]\n",
    "referents_to_ground = [\"fridge\"]\n",
    "\n",
    "## Extract spatial information\n",
    "referent_spatial_details = get_spatial_referents(referents_to_ground)\n",
    "print(\"referent_spatial_details: \",referent_spatial_details,\"\\n\")"
   ]
  },
  {
   "cell_type": "code",
   "execution_count": null,
   "metadata": {},
   "outputs": [],
   "source": [
    "## Spatial grounding\n",
    "relevant_element_details = vlm_instance.spatial_grounding(observations_graph, referent_spatial_details, visualize=True, use_segmentation=True, multiprocessing=True, workers=3)"
   ]
  },
  {
   "cell_type": "code",
   "execution_count": null,
   "metadata": {},
   "outputs": [],
   "source": [
    "print(f\"\\nReferents after spatial constraint filtering:\",len(relevant_element_details))\n",
    "#for all relevant elements print their ids\n",
    "print(f\"Filtered elements \\n\",[element['mask_id'] for element in relevant_element_details])"
   ]
  },
  {
   "cell_type": "markdown",
   "metadata": {},
   "source": [
    "### Implementation Grounds"
   ]
  },
  {
   "cell_type": "code",
   "execution_count": null,
   "metadata": {},
   "outputs": [],
   "source": [
    "## if multiprocessing approach\n",
    "# 1. chunk data into parts\n",
    "# 2. batch use owlvit to label images in each chunk\n",
    "# 3. batch generate sam embeddings on each chunk"
   ]
  },
  {
   "cell_type": "code",
   "execution_count": null,
   "metadata": {},
   "outputs": [],
   "source": [
    "def process_node_r3d_batch():"
   ]
  },
  {
   "cell_type": "code",
   "execution_count": null,
   "metadata": {},
   "outputs": [],
   "source": [
    "def process_node_r3d(self, node_idx ,observation_graph,propositions,visualize, use_segmentation=True): \n",
    "    node_element_details = []   \n",
    "    print(f\"Evaluating Waypoint at Node {node_idx}\")\n",
    "    observation_graph.nodes[node_idx]['annotated_img']={}\n",
    "    bounds,labels,confidence = self.label_observation(observation_graph.nodes[node_idx]['rgb_pil'],propositions,threshold=0.1)\n",
    "\n",
    "    present_propositions = list(set(labels))\n",
    "    tracking_ids=[]\n",
    "    # print(f\"Elements in observation: {present_propositions}\")\n",
    "\n",
    "    #Check if detected labels/propositions at observation node havent already been segmented and masks obtained \n",
    "    if not all(element in self.grounded_elements for element in present_propositions):\n",
    "        if use_segmentation:\n",
    "            print(f\"      Detected Task relevant elements: {present_propositions} || Segmenting to obtain masks ...\")\n",
    "            # segment for masks of each proposition\n",
    "            masks,sam_embedding=self.segment(observation_graph.nodes[node_idx]['rgb_pil'],bounds)\n",
    "        else:\n",
    "            print(f\"      Detected Task relevant elements: {present_propositions} || Using bounding boxes as masks ...\")\n",
    "            masks = bounds\n",
    "            sam_embedding=None\n",
    "\n",
    "        #get depth info\n",
    "        try :\n",
    "            depth_data = observation_graph.nodes[node_idx]['depth_data']\n",
    "            print(f\"      Loaded depth data from waypoint node {node_idx}, \")\n",
    "        except:\n",
    "            print(f\"      No existing depth data || Estimating depth image...\")\n",
    "            depth_img, depth_data = self.estimate_depth(observation_graph.nodes[node_idx]['rgb_pil'])\n",
    "\n",
    "        #get mask info\n",
    "        for i,mask in enumerate(masks):\n",
    "            print(f\"      Processing {labels[i]} mask\")\n",
    "            if use_segmentation:\n",
    "                    actual_mask = mask[0].cpu()\n",
    "                    center_pixel, center_pixel_depth = get_center_pixel_depth(actual_mask,depth_data[0])\n",
    "                    mask_pixel_coords,pixel_depths,average_depth=get_mask_pixels_depth(actual_mask,depth_data[0])\n",
    "            else:\n",
    "                    actual_mask = mask\n",
    "                    center_pixel, center_pixel_depth = get_bounding_box_center_depth(actual_mask,depth_data[0])\n",
    "                    mask_pixel_coords,pixel_depths,average_depth=get_bounding_box_pixels_depth(actual_mask,depth_data[0])\n",
    "            \n",
    "            print(f\"         Mask {labels[i]}_{str(node_idx)}_{i} || Original Center pixel: {center_pixel} || Center pixel depth: {center_pixel_depth}\")\n",
    "            center_pixel_depth=average_depth #Use average of mask depth with actual values as depth of center pixel || not just the actual center pixel depth\n",
    "            \n",
    "            ##Three step adaptive depth data approach \n",
    "            mask_depth=0.0\n",
    "            if center_pixel_depth != 0.0:\n",
    "                    mask_depth=center_pixel_depth\n",
    "            if center_pixel_depth == 0.0:\n",
    "                    successful_pixel = False\n",
    "                    #Try to get closest pixel to center pixel in mask, that has a depth\n",
    "                    # Create a list of tuples with pixel indices, depth, and distance from center pixel\n",
    "                    pixel_data = [(idx, depth, ((coord[0] - center_pixel[0])**2 + (coord[1] - center_pixel[1])**2)**0.5)\n",
    "                                for idx, (depth, coord) in enumerate(zip(pixel_depths, mask_pixel_coords))]\n",
    "\n",
    "                    # Sort the pixel data list based on the distance from center pixel\n",
    "                    sorted_pixel_data = sorted(pixel_data, key=lambda x: x[2])\n",
    "\n",
    "                    # Iterate over the sorted pixel data list\n",
    "                    for idx, depth, distance in sorted_pixel_data:\n",
    "                        if depth != 0.0:\n",
    "                            mask_depth = depth\n",
    "                            center_pixel = mask_pixel_coords[idx]\n",
    "                            successful_pixel = True\n",
    "                            print(f\"         Center pixel depth empty,obtained new pixel from mask || pixel:{center_pixel}, depth: {mask_depth}\")\n",
    "                            break\n",
    "\n",
    "                    # Skip monocular model and just move on to next mask if no sensor depth \n",
    "                    if successful_pixel == False:\n",
    "                        print(\"         Not using depth model, moving on to next mask\")\n",
    "                        continue\n",
    "\n",
    "            print(f\"         Mask {labels[i]}_{str(node_idx)}_{i} || Chosen Center pixel: {center_pixel} || Average mask depth: {average_depth} || Chosen Mask depth: {mask_depth}\")\n",
    "\n",
    "            mask_label =  labels[i]\n",
    "            tracking_id = labels[i]+\"_\"+str(node_idx)+\"_\"+str(i)\n",
    "            tracking_ids.append(tracking_id)\n",
    "            if tracking_id not in self.grounded_elements: #only record new masks\n",
    "                    #get worldframe backprojected 3d position of object(center pixel)\n",
    "                    print(f\"         Backprojectig 3D ray using pixel: {center_pixel} & depth: {mask_depth}m for {tracking_id}...\")\n",
    "                    center_y, center_x = center_pixel\n",
    "                    pixel_depth = mask_depth\n",
    "                    pose = observation_graph.nodes[node_idx]['pose']\n",
    "                    intrinsics = observation_graph.nodes[node_idx]['intrinsics']\n",
    "\n",
    "                    #switch to record3d approach for backprojection\n",
    "                    transformed_point = get_xyz_coordinate(depth_data[0], pose['pose_matrix'], intrinsics, center_x, center_y)\n",
    "                    # get a\n",
    "\n",
    "                    print(f\"         Recording mask info for {tracking_id}...\")\n",
    "                    node_element_details.append({\"mask_label\":mask_label,\n",
    "                                            \"mask_id\":tracking_id,\n",
    "                                            \"origin_obsnode\":node_idx,\n",
    "                                            \"mask\":actual_mask.cpu() if torch.is_tensor(actual_mask) else actual_mask,\n",
    "                                            \"mask_center_pixel\":center_pixel,\n",
    "                                            \"mask_center_pixel_depth\":center_pixel_depth,\n",
    "                                            \"mask_all_pixels\":mask_pixel_coords,\n",
    "                                            \"mask_all_pixels_depth\":pixel_depths,\n",
    "                                            \"mask_depth\":mask_depth,\n",
    "                                            \"sam_embedding\":sam_embedding.cpu() if torch.is_tensor(sam_embedding) else sam_embedding,\n",
    "                                            \"origin_nodeimg\":observation_graph.nodes[node_idx]['rgb_pil'],\n",
    "                                            \"origin_nodedepthimg\":depth_data,\n",
    "                                            \"origin_nodepose\":observation_graph.nodes[node_idx]['pose'],\n",
    "                                            \"worldframe_3d_position\":transformed_point #if bad_point==False else None\n",
    "                                            })        \n",
    "        self.grounded_elements.extend(tracking_ids)\n",
    "    \n",
    "        if visualize: \n",
    "            # save anotated images to tmp folder\n",
    "            file_name = f\"observation_{node_idx}.png\"\n",
    "            annotated = self.plot_boxes(observation_graph.nodes[node_idx]['rgb_pil'], bounds, labels, confidence,plt_size=8,file_name=file_name) #visualize grounding results\n",
    "        \n",
    "    return node_element_details\n",
    "\n",
    "\n"
   ]
  },
  {
   "cell_type": "markdown",
   "metadata": {},
   "source": [
    "## Example of getting single pixel xyz"
   ]
  },
  {
   "cell_type": "code",
   "execution_count": null,
   "metadata": {},
   "outputs": [],
   "source": [
    "# Example get \n",
    "batch_index = 0  # Batch index\n",
    "y = 100  # Y-coordinate (height)\n",
    "x = 200  # X-coordinate (width)\n",
    "\n",
    "# Get the XYZ coordinates for the specific pixel\n",
    "xyz_coordinates = xyz_output[batch_index, y, x, :]\n",
    "\n",
    "print(xyz_coordinates)"
   ]
  },
  {
   "cell_type": "code",
   "execution_count": null,
   "metadata": {},
   "outputs": [],
   "source": [
    "import numpy as np\n",
    "\n",
    "#load in npy file\n",
    "xyz_output = np.load('results/relevant_elements_alldetails.npy',allow_pickle=True)"
   ]
  },
  {
   "cell_type": "code",
   "execution_count": null,
   "metadata": {},
   "outputs": [],
   "source": [
    "xyz_output[0]"
   ]
  },
  {
   "cell_type": "code",
   "execution_count": null,
   "metadata": {},
   "outputs": [],
   "source": []
  }
 ],
 "metadata": {
  "kernelspec": {
   "display_name": "osg",
   "language": "python",
   "name": "python3"
  },
  "language_info": {
   "codemirror_mode": {
    "name": "ipython",
    "version": 3
   },
   "file_extension": ".py",
   "mimetype": "text/x-python",
   "name": "python",
   "nbconvert_exporter": "python",
   "pygments_lexer": "ipython3",
   "version": "3.9.19"
  }
 },
 "nbformat": 4,
 "nbformat_minor": 2
}
