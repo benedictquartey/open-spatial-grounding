{
 "cells": [
  {
   "cell_type": "markdown",
   "metadata": {},
   "source": [
    "## Import dependencies"
   ]
  },
  {
   "cell_type": "code",
   "execution_count": 1,
   "metadata": {},
   "outputs": [
    {
     "name": "stderr",
     "output_type": "stream",
     "text": [
      "/Users/benedictquartey/opt/miniconda3/envs/osg/lib/python3.9/site-packages/tqdm/auto.py:21: TqdmWarning: IProgress not found. Please update jupyter and ipywidgets. See https://ipywidgets.readthedocs.io/en/stable/user_install.html\n",
      "  from .autonotebook import tqdm as notebook_tqdm\n"
     ]
    }
   ],
   "source": [
    "from osg.utils.general_utils import load_robot_data, create_robot_observation_graph, get_spatial_referents\n",
    "from osg.vlm_library import vlm_library"
   ]
  },
  {
   "cell_type": "markdown",
   "metadata": {},
   "source": [
    "## Setup"
   ]
  },
  {
   "cell_type": "code",
   "execution_count": 2,
   "metadata": {},
   "outputs": [
    {
     "name": "stdout",
     "output_type": "stream",
     "text": [
      "-------------------------------------------------\n",
      "Visual language model: owl_vit\n",
      "-------------------------------------------------\n",
      "Segmentation model: Mobile SAM\n",
      "-------------------------------------------------\n",
      "Data source: robot\n",
      "-------------------------------------------------\n",
      "0 out of 12 || Getting cardinal images for waypoint:balky-cuckoo-DSOhlw+wDw5TKMQhzKNg1Q==\n",
      "1 out of 12 || Getting cardinal images for waypoint:bended-drum-ZK.nOK2ROH99jbDMGbrG3Q==\n",
      "2 out of 12 || Getting cardinal images for waypoint:brainy-eel-acD1gEPuOhQgqad45uHuXw==\n",
      "3 out of 12 || Getting cardinal images for waypoint:frayed-emu-M5JSw0IiYB8xYBwfswR41Q==\n",
      "4 out of 12 || Getting cardinal images for waypoint:garish-rat-RgSDxBIafXZwgLb2o+h3TA==\n",
      "5 out of 12 || Getting cardinal images for waypoint:leafy-mayfly-8hSmtSRh9YMd0eyKxJ6Tjw==\n",
      "6 out of 12 || Getting cardinal images for waypoint:lemony-gibbon-44n7dioWNlkPvLqiIcb2gg==\n",
      "7 out of 12 || Getting cardinal images for waypoint:lethal-fish-xlr1rhR2yqmfn88mEo7FTw==\n",
      "8 out of 12 || Getting cardinal images for waypoint:phoney-shark-vJbZmiet4YMbuu.hDi4IOA==\n",
      "9 out of 12 || Getting cardinal images for waypoint:scared-redbug-AHDnuMg2GzoyJUZUrvMuYA==\n",
      "10 out of 12 || Getting cardinal images for waypoint:tan-mamba-2DaJ2+ZpP88jbK93.0w4nA==\n",
      "11 out of 12 || Getting cardinal images for waypoint:wizen-isopod-wTDDDCREm75UfZM0+ZTeOw==\n"
     ]
    }
   ],
   "source": [
    "#setup\n",
    "tmp_fldr=f\"results/\"\n",
    "vlm_instance   = vlm_library(vl_model=\"owl_vit\", data_src=\"robot\", seg_model=\"mobile_sam\", tmp_fldr=tmp_fldr) \n",
    "\n",
    "#load data\n",
    "data_path = \"../data/sample_robot_data\"\n",
    "observation_data, edge_connectivity, env_pointcloud = load_robot_data(data_path, tmp_fldr)\n",
    "observations_graph, _, _, _ = create_robot_observation_graph(observation_data,edge_connectivity,tmp_fldr=tmp_fldr)"
   ]
  },
  {
   "cell_type": "code",
   "execution_count": 3,
   "metadata": {},
   "outputs": [
    {
     "data": {
      "text/plain": [
       "{'rgb': {0: <PIL.Image.Image image mode=RGB size=640x480>,\n",
       "  1: <PIL.Image.Image image mode=RGB size=640x480>,\n",
       "  2: <PIL.Image.Image image mode=RGB size=640x480>,\n",
       "  3: <PIL.Image.Image image mode=RGB size=640x480>},\n",
       " 'pose': {0: {'position': [2.668748959000604,\n",
       "    -2.7842405328179436,\n",
       "    0.03886261251422272],\n",
       "   'quaternion(wxyz)': [0.9742608555283065,\n",
       "    1.5039994283409839e-06,\n",
       "    0.00015538128483319542,\n",
       "    -0.22542351527657162],\n",
       "   'rotation_matrix': array([[ 8.98368429e-01,  4.39242614e-01,  3.02085733e-04],\n",
       "          [-4.39242613e-01,  8.98368478e-01, -7.29837664e-05],\n",
       "          [-3.03441881e-04, -6.71226153e-05,  9.99999952e-01]])},\n",
       "  1: {'position': [2.654588264705733, -2.795095249821269, 0.04214847160365154],\n",
       "   'quaternion(wxyz)': [0.847823810652734,\n",
       "    0.0024072553041238,\n",
       "    -0.0017644481240037956,\n",
       "    0.5302696275810973],\n",
       "   'rotation_matrix': array([[ 4.37622018e-01, -8.99158928e-01, -4.38893517e-04],\n",
       "          [ 8.99141938e-01,  4.37616654e-01, -5.95312323e-03],\n",
       "          [ 5.54487101e-03,  2.21059023e-03,  9.99982184e-01]])},\n",
       "  2: {'position': [2.6782390479465024,\n",
       "    -2.8120489375485134,\n",
       "    0.03939924345592643],\n",
       "   'quaternion(wxyz)': [0.22313751819415853,\n",
       "    0.0016307630259245203,\n",
       "    0.0015394105151389172,\n",
       "    0.974784396059647],\n",
       "   'rotation_matrix': array([[-0.90041398, -0.43501692,  0.00386629],\n",
       "          [ 0.43502696, -0.90041456,  0.00227342],\n",
       "          [ 0.00249228,  0.00372896,  0.99998994]])},\n",
       "  3: {'position': [2.702797194555361,\n",
       "    -2.7835920444826785,\n",
       "    0.037323012989529836],\n",
       "   'quaternion(wxyz)': [0.5327137585159971,\n",
       "    0.0022899364407878544,\n",
       "    -0.0007392878332055901,\n",
       "    -0.8462920660932352],\n",
       "   'rotation_matrix': array([[-0.43242162,  0.90165947, -0.00466357],\n",
       "          [-0.90166624, -0.43243101, -0.00118845],\n",
       "          [-0.00308825,  0.00369107,  0.99998842]])}},\n",
       " 'xy_coordinate': (2.679580852838151, -2.8152447307992166),\n",
       " 'depth_data': {0: array([[0., 0., 0., ..., 0., 0., 0.],\n",
       "         [0., 0., 0., ..., 0., 0., 0.],\n",
       "         [0., 0., 0., ..., 0., 0., 0.],\n",
       "         ...,\n",
       "         [0., 0., 0., ..., 0., 0., 0.],\n",
       "         [0., 0., 0., ..., 0., 0., 0.],\n",
       "         [0., 0., 0., ..., 0., 0., 0.]]),\n",
       "  1: array([[0., 0., 0., ..., 0., 0., 0.],\n",
       "         [0., 0., 0., ..., 0., 0., 0.],\n",
       "         [0., 0., 0., ..., 0., 0., 0.],\n",
       "         ...,\n",
       "         [0., 0., 0., ..., 0., 0., 0.],\n",
       "         [0., 0., 0., ..., 0., 0., 0.],\n",
       "         [0., 0., 0., ..., 0., 0., 0.]]),\n",
       "  2: array([[0., 0., 0., ..., 0., 0., 0.],\n",
       "         [0., 0., 0., ..., 0., 0., 0.],\n",
       "         [0., 0., 0., ..., 0., 0., 0.],\n",
       "         ...,\n",
       "         [0., 0., 0., ..., 0., 0., 0.],\n",
       "         [0., 0., 0., ..., 0., 0., 0.],\n",
       "         [0., 0., 0., ..., 0., 0., 0.]]),\n",
       "  3: array([[0., 0., 0., ..., 0., 0., 0.],\n",
       "         [0., 0., 0., ..., 0., 0., 0.],\n",
       "         [0., 0., 0., ..., 0., 0., 0.],\n",
       "         ...,\n",
       "         [0., 0., 0., ..., 0., 0., 0.],\n",
       "         [0., 0., 0., ..., 0., 0., 0.],\n",
       "         [0., 0., 0., ..., 0., 0., 0.]])},\n",
       " 'waypoint_key': 'balky-cuckoo-DSOhlw+wDw5TKMQhzKNg1Q==',\n",
       " 'rep_pose': {'position': [2.679580852838151,\n",
       "   -2.8152447307992166,\n",
       "   0.034746113502675265],\n",
       "  'quaternion(wxyz)': [0.9736098768782361,\n",
       "   0.016801239126329623,\n",
       "   -0.0014981563388149607,\n",
       "   -0.22759455515576496],\n",
       "  'rotation_matrix': array([[ 0.89639695,  0.44312627, -0.01056498],\n",
       "         [-0.44322696,  0.89583687, -0.03203376],\n",
       "         [-0.0047305 ,  0.03339765,  0.99943095]])}}"
      ]
     },
     "execution_count": 3,
     "metadata": {},
     "output_type": "execute_result"
    }
   ],
   "source": [
    "observations_graph.nodes[0]"
   ]
  },
  {
   "cell_type": "markdown",
   "metadata": {},
   "source": [
    "## Composible Referent Descriptors"
   ]
  },
  {
   "cell_type": "code",
   "execution_count": 4,
   "metadata": {},
   "outputs": [],
   "source": [
    "## Composible Referent Descriptor (CRD) \n",
    "    # CRDs are propositional expressions that represent specific referent instances by chaining comparators that encode descriptive spatial information. \n",
    "    # For more details see: https://arxiv.org/abs/2402.11498\n",
    "\n",
    "## CRD Syntax\n",
    "    # referent_1::isbetween(referent_2,referent_3)  :denotes that referent_1 is between referent_2 and referent_3.\n",
    "    # referent_1::isabove(referent_2)               :denotes that referent_1 is above referent_2.\n",
    "    # referent_1::isbelow(referent_2)               :denotes that referent_1 is below referent_2.\n",
    "    # referent_1::isleftof(referent_2)              :denotes that referent_1 is left of referent_2.\n",
    "    # referent_1::isrightof(referent_2)             :denotes that referent_1 is right of referent_2.\n",
    "    # referent_1::isnextto(referent_2)              :denotes that referent_1 is close to referent_2.\n",
    "    # referent_1::isinfrontof(referent_2)           :denotes that referent_1 is in front of referent_2.\n",
    "    # referent_1::isbehind(referent_2)              :denotes that referent_1 is behind referent_2.\n",
    "\n",
    "## Examples\n",
    "    # Desired referent:   table behind the fridge\n",
    "    # CRD representation: table::isbehind(fridge) \n",
    "\n",
    "    # Desired referent:    chair between the green laptop and the yellow box below the sofa\n",
    "    # CRD representation:  chair::isbetween(green_laptop,yellow_box::isbelow(sofa))\n",
    "\n",
    "    # Desired referent:    brown bag between the television and the kettle on the left of the green seat\n",
    "    # CRD representation:  brown_bag::isbetween(television, kettle::isleftof(green_seat))"
   ]
  },
  {
   "cell_type": "markdown",
   "metadata": {},
   "source": [
    "## Ground referents and filter instances via spatial constraints"
   ]
  },
  {
   "cell_type": "code",
   "execution_count": 5,
   "metadata": {},
   "outputs": [
    {
     "name": "stdout",
     "output_type": "stream",
     "text": [
      "referent_spatial_details:  {'laptop': [], 'whiteboard': ['isinfrontof(green_plush_toy)'], 'green_plush_toy': []} \n",
      "\n"
     ]
    }
   ],
   "source": [
    "# Enter comma seperated referent names or composible referent descriptors you wish to ground\n",
    "referents_to_ground = [\"laptop\", \"whiteboard::isinfrontof(green_plush_toy)\"]\n",
    "\n",
    "## Extract spatial information\n",
    "referent_spatial_details = get_spatial_referents(referents_to_ground)\n",
    "print(\"referent_spatial_details: \",referent_spatial_details,\"\\n\")"
   ]
  },
  {
   "cell_type": "code",
   "execution_count": 6,
   "metadata": {},
   "outputs": [
    {
     "name": "stdout",
     "output_type": "stream",
     "text": [
      "Propositions to ground: ['laptop', 'whiteboard', 'green_plush_toy']\n",
      "--------------------------------------------------------------------------\n",
      " Running: VLM Detections || Datanode count: 12 || workers: 3 || workers_after_chunking: 3\n",
      "--------------------------------------------------------------------------\n",
      "\n",
      "\n",
      "*************************************************\n",
      "Begin Spatial Grounding\n",
      "-------------------------------------------------\n",
      "\n",
      "Current Element whiteboard_0a_0 || Type: whiteboard || Spatial Details: ['isinfrontof(green_plush_toy)']\n",
      "    Checking Descriptor: isinfrontof(green_plush_toy)  || Comparative referents: ['green_plush_toy']\n",
      "        'whiteboard_0a_0' is in front of 'green_plush_toy_2c_1': False\n",
      "    Element whiteboard_0a_0 || Completed spatial checks: {'isinfrontof(green_plush_toy)': False}\n",
      "\n",
      "Current Element whiteboard_0b_0 || Type: whiteboard || Spatial Details: ['isinfrontof(green_plush_toy)']\n",
      "    Checking Descriptor: isinfrontof(green_plush_toy)  || Comparative referents: ['green_plush_toy']\n",
      "        'whiteboard_0b_0' is in front of 'green_plush_toy_2c_1': False\n",
      "    Element whiteboard_0b_0 || Completed spatial checks: {'isinfrontof(green_plush_toy)': False}\n",
      "\n",
      "Current Element whiteboard_2a_0 || Type: whiteboard || Spatial Details: ['isinfrontof(green_plush_toy)']\n",
      "    Checking Descriptor: isinfrontof(green_plush_toy)  || Comparative referents: ['green_plush_toy']\n",
      "        'whiteboard_2a_0' is in front of 'green_plush_toy_2c_1': True\n",
      "    Element whiteboard_2a_0 || Completed spatial checks: {'isinfrontof(green_plush_toy)': True}\n",
      "\n",
      "Current Element whiteboard_2c_0 || Type: whiteboard || Spatial Details: ['isinfrontof(green_plush_toy)']\n",
      "    Checking Descriptor: isinfrontof(green_plush_toy)  || Comparative referents: ['green_plush_toy']\n",
      "        'whiteboard_2c_0' is in front of 'green_plush_toy_2c_1': False\n",
      "    Element whiteboard_2c_0 || Completed spatial checks: {'isinfrontof(green_plush_toy)': False}\n",
      "\n",
      "Element green_plush_toy_2c_1 has no spatial details\n",
      "\n",
      "Current Element whiteboard_3a_0 || Type: whiteboard || Spatial Details: ['isinfrontof(green_plush_toy)']\n",
      "    Checking Descriptor: isinfrontof(green_plush_toy)  || Comparative referents: ['green_plush_toy']\n",
      "        'whiteboard_3a_0' is in front of 'green_plush_toy_2c_1': False\n",
      "    Element whiteboard_3a_0 || Completed spatial checks: {'isinfrontof(green_plush_toy)': False}\n",
      "\n",
      "Current Element whiteboard_3a_1 || Type: whiteboard || Spatial Details: ['isinfrontof(green_plush_toy)']\n",
      "    Checking Descriptor: isinfrontof(green_plush_toy)  || Comparative referents: ['green_plush_toy']\n",
      "        'whiteboard_3a_1' is in front of 'green_plush_toy_2c_1': False\n",
      "    Element whiteboard_3a_1 || Completed spatial checks: {'isinfrontof(green_plush_toy)': False}\n",
      "\n",
      "Current Element whiteboard_3c_0 || Type: whiteboard || Spatial Details: ['isinfrontof(green_plush_toy)']\n",
      "    Checking Descriptor: isinfrontof(green_plush_toy)  || Comparative referents: ['green_plush_toy']\n",
      "        'whiteboard_3c_0' is in front of 'green_plush_toy_2c_1': True\n",
      "    Element whiteboard_3c_0 || Completed spatial checks: {'isinfrontof(green_plush_toy)': True}\n",
      "\n",
      "Current Element whiteboard_3c_1 || Type: whiteboard || Spatial Details: ['isinfrontof(green_plush_toy)']\n",
      "    Checking Descriptor: isinfrontof(green_plush_toy)  || Comparative referents: ['green_plush_toy']\n",
      "        'whiteboard_3c_1' is in front of 'green_plush_toy_2c_1': True\n",
      "    Element whiteboard_3c_1 || Completed spatial checks: {'isinfrontof(green_plush_toy)': True}\n",
      "\n",
      "Current Element whiteboard_4b_0 || Type: whiteboard || Spatial Details: ['isinfrontof(green_plush_toy)']\n",
      "    Checking Descriptor: isinfrontof(green_plush_toy)  || Comparative referents: ['green_plush_toy']\n",
      "        'whiteboard_4b_0' is in front of 'green_plush_toy_2c_1': True\n",
      "    Element whiteboard_4b_0 || Completed spatial checks: {'isinfrontof(green_plush_toy)': True}\n",
      "\n",
      "Current Element whiteboard_4b_1 || Type: whiteboard || Spatial Details: ['isinfrontof(green_plush_toy)']\n",
      "    Checking Descriptor: isinfrontof(green_plush_toy)  || Comparative referents: ['green_plush_toy']\n",
      "        'whiteboard_4b_1' is in front of 'green_plush_toy_2c_1': True\n",
      "    Element whiteboard_4b_1 || Completed spatial checks: {'isinfrontof(green_plush_toy)': True}\n",
      "\n",
      "Current Element whiteboard_4d_0 || Type: whiteboard || Spatial Details: ['isinfrontof(green_plush_toy)']\n",
      "    Checking Descriptor: isinfrontof(green_plush_toy)  || Comparative referents: ['green_plush_toy']\n",
      "        'whiteboard_4d_0' is in front of 'green_plush_toy_2c_1': False\n",
      "    Element whiteboard_4d_0 || Completed spatial checks: {'isinfrontof(green_plush_toy)': False}\n",
      "\n",
      "Current Element whiteboard_5b_0 || Type: whiteboard || Spatial Details: ['isinfrontof(green_plush_toy)']\n",
      "    Checking Descriptor: isinfrontof(green_plush_toy)  || Comparative referents: ['green_plush_toy']\n",
      "        'whiteboard_5b_0' is in front of 'green_plush_toy_2c_1': False\n",
      "    Element whiteboard_5b_0 || Completed spatial checks: {'isinfrontof(green_plush_toy)': False}\n",
      "\n",
      "Element laptop_5b_1 has no spatial details\n",
      "\n",
      "Current Element whiteboard_5c_0 || Type: whiteboard || Spatial Details: ['isinfrontof(green_plush_toy)']\n",
      "    Checking Descriptor: isinfrontof(green_plush_toy)  || Comparative referents: ['green_plush_toy']\n",
      "        'whiteboard_5c_0' is in front of 'green_plush_toy_2c_1': False\n",
      "    Element whiteboard_5c_0 || Completed spatial checks: {'isinfrontof(green_plush_toy)': False}\n",
      "\n",
      "Current Element whiteboard_5c_1 || Type: whiteboard || Spatial Details: ['isinfrontof(green_plush_toy)']\n",
      "    Checking Descriptor: isinfrontof(green_plush_toy)  || Comparative referents: ['green_plush_toy']\n",
      "        'whiteboard_5c_1' is in front of 'green_plush_toy_2c_1': False\n",
      "    Element whiteboard_5c_1 || Completed spatial checks: {'isinfrontof(green_plush_toy)': False}\n",
      "\n",
      "Current Element whiteboard_5d_0 || Type: whiteboard || Spatial Details: ['isinfrontof(green_plush_toy)']\n",
      "    Checking Descriptor: isinfrontof(green_plush_toy)  || Comparative referents: ['green_plush_toy']\n",
      "        'whiteboard_5d_0' is in front of 'green_plush_toy_2c_1': True\n",
      "    Element whiteboard_5d_0 || Completed spatial checks: {'isinfrontof(green_plush_toy)': True}\n",
      "\n",
      "Current Element whiteboard_6c_0 || Type: whiteboard || Spatial Details: ['isinfrontof(green_plush_toy)']\n",
      "    Checking Descriptor: isinfrontof(green_plush_toy)  || Comparative referents: ['green_plush_toy']\n",
      "        'whiteboard_6c_0' is in front of 'green_plush_toy_2c_1': True\n",
      "    Element whiteboard_6c_0 || Completed spatial checks: {'isinfrontof(green_plush_toy)': True}\n",
      "\n",
      "Current Element whiteboard_7a_0 || Type: whiteboard || Spatial Details: ['isinfrontof(green_plush_toy)']\n",
      "    Checking Descriptor: isinfrontof(green_plush_toy)  || Comparative referents: ['green_plush_toy']\n",
      "        'whiteboard_7a_0' is in front of 'green_plush_toy_2c_1': False\n",
      "    Element whiteboard_7a_0 || Completed spatial checks: {'isinfrontof(green_plush_toy)': False}\n",
      "\n",
      "Current Element whiteboard_7a_1 || Type: whiteboard || Spatial Details: ['isinfrontof(green_plush_toy)']\n",
      "    Checking Descriptor: isinfrontof(green_plush_toy)  || Comparative referents: ['green_plush_toy']\n",
      "        'whiteboard_7a_1' is in front of 'green_plush_toy_2c_1': False\n",
      "    Element whiteboard_7a_1 || Completed spatial checks: {'isinfrontof(green_plush_toy)': False}\n",
      "\n",
      "Current Element whiteboard_7c_0 || Type: whiteboard || Spatial Details: ['isinfrontof(green_plush_toy)']\n",
      "    Checking Descriptor: isinfrontof(green_plush_toy)  || Comparative referents: ['green_plush_toy']\n",
      "        'whiteboard_7c_0' is in front of 'green_plush_toy_2c_1': True\n",
      "    Element whiteboard_7c_0 || Completed spatial checks: {'isinfrontof(green_plush_toy)': True}\n",
      "\n",
      "Current Element whiteboard_7c_1 || Type: whiteboard || Spatial Details: ['isinfrontof(green_plush_toy)']\n",
      "    Checking Descriptor: isinfrontof(green_plush_toy)  || Comparative referents: ['green_plush_toy']\n",
      "        'whiteboard_7c_1' is in front of 'green_plush_toy_2c_1': True\n",
      "    Element whiteboard_7c_1 || Completed spatial checks: {'isinfrontof(green_plush_toy)': True}\n",
      "\n",
      "Current Element whiteboard_9a_0 || Type: whiteboard || Spatial Details: ['isinfrontof(green_plush_toy)']\n",
      "    Checking Descriptor: isinfrontof(green_plush_toy)  || Comparative referents: ['green_plush_toy']\n",
      "        'whiteboard_9a_0' is in front of 'green_plush_toy_2c_1': True\n",
      "    Element whiteboard_9a_0 || Completed spatial checks: {'isinfrontof(green_plush_toy)': True}\n",
      "\n",
      "Current Element whiteboard_9a_1 || Type: whiteboard || Spatial Details: ['isinfrontof(green_plush_toy)']\n",
      "    Checking Descriptor: isinfrontof(green_plush_toy)  || Comparative referents: ['green_plush_toy']\n",
      "        'whiteboard_9a_1' is in front of 'green_plush_toy_2c_1': True\n",
      "    Element whiteboard_9a_1 || Completed spatial checks: {'isinfrontof(green_plush_toy)': True}\n",
      "\n",
      "Element laptop_10a_0 has no spatial details\n",
      "\n",
      "Current Element whiteboard_10b_0 || Type: whiteboard || Spatial Details: ['isinfrontof(green_plush_toy)']\n",
      "    Checking Descriptor: isinfrontof(green_plush_toy)  || Comparative referents: ['green_plush_toy']\n",
      "        'whiteboard_10b_0' is in front of 'green_plush_toy_2c_1': False\n",
      "    Element whiteboard_10b_0 || Completed spatial checks: {'isinfrontof(green_plush_toy)': False}\n",
      "\n",
      "Current Element whiteboard_10d_0 || Type: whiteboard || Spatial Details: ['isinfrontof(green_plush_toy)']\n",
      "    Checking Descriptor: isinfrontof(green_plush_toy)  || Comparative referents: ['green_plush_toy']\n",
      "        'whiteboard_10d_0' is in front of 'green_plush_toy_2c_1': True\n",
      "    Element whiteboard_10d_0 || Completed spatial checks: {'isinfrontof(green_plush_toy)': True}\n",
      "\n",
      "Current Element whiteboard_10d_1 || Type: whiteboard || Spatial Details: ['isinfrontof(green_plush_toy)']\n",
      "    Checking Descriptor: isinfrontof(green_plush_toy)  || Comparative referents: ['green_plush_toy']\n",
      "        'whiteboard_10d_1' is in front of 'green_plush_toy_2c_1': True\n",
      "    Element whiteboard_10d_1 || Completed spatial checks: {'isinfrontof(green_plush_toy)': True}\n",
      "\n",
      "Current Element whiteboard_11a_0 || Type: whiteboard || Spatial Details: ['isinfrontof(green_plush_toy)']\n",
      "    Checking Descriptor: isinfrontof(green_plush_toy)  || Comparative referents: ['green_plush_toy']\n",
      "        'whiteboard_11a_0' is in front of 'green_plush_toy_2c_1': False\n",
      "    Element whiteboard_11a_0 || Completed spatial checks: {'isinfrontof(green_plush_toy)': False}\n",
      "\n",
      "Element laptop_11b_0 has no spatial details\n",
      "\n",
      "Current Element whiteboard_11c_0 || Type: whiteboard || Spatial Details: ['isinfrontof(green_plush_toy)']\n",
      "    Checking Descriptor: isinfrontof(green_plush_toy)  || Comparative referents: ['green_plush_toy']\n",
      "        'whiteboard_11c_0' is in front of 'green_plush_toy_2c_1': True\n",
      "    Element whiteboard_11c_0 || Completed spatial checks: {'isinfrontof(green_plush_toy)': True}\n"
     ]
    }
   ],
   "source": [
    "## Spatial grounding\n",
    "relevant_element_details = vlm_instance.spatial_grounding(observations_graph, referent_spatial_details, visualize=True, use_segmentation=True, multiprocessing=True, workers=3)"
   ]
  },
  {
   "cell_type": "code",
   "execution_count": 7,
   "metadata": {},
   "outputs": [
    {
     "name": "stdout",
     "output_type": "stream",
     "text": [
      "\n",
      "Referents after spatial constraint filtering: 18\n",
      "Filtered elements \n",
      " ['whiteboard_2a_0', 'green_plush_toy_2c_1', 'whiteboard_3c_0', 'whiteboard_3c_1', 'whiteboard_4b_0', 'whiteboard_4b_1', 'laptop_5b_1', 'whiteboard_5d_0', 'whiteboard_6c_0', 'whiteboard_7c_0', 'whiteboard_7c_1', 'whiteboard_9a_0', 'whiteboard_9a_1', 'laptop_10a_0', 'whiteboard_10d_0', 'whiteboard_10d_1', 'laptop_11b_0', 'whiteboard_11c_0']\n"
     ]
    }
   ],
   "source": [
    "print(f\"\\nReferents after spatial constraint filtering:\",len(relevant_element_details))\n",
    "#for all relevant elements print their ids\n",
    "print(f\"Filtered elements \\n\",[element['mask_id'] for element in relevant_element_details])"
   ]
  },
  {
   "cell_type": "code",
   "execution_count": null,
   "metadata": {},
   "outputs": [],
   "source": []
  }
 ],
 "metadata": {
  "kernelspec": {
   "display_name": "svlmp",
   "language": "python",
   "name": "python3"
  },
  "language_info": {
   "codemirror_mode": {
    "name": "ipython",
    "version": 3
   },
   "file_extension": ".py",
   "mimetype": "text/x-python",
   "name": "python",
   "nbconvert_exporter": "python",
   "pygments_lexer": "ipython3",
   "version": "3.9.19"
  }
 },
 "nbformat": 4,
 "nbformat_minor": 2
}
